{
 "cells": [
  {
   "cell_type": "markdown",
   "id": "0161721c-833d-41a9-8110-ca1a58609554",
   "metadata": {},
   "source": [
    "##### num = int(input(\"enter a number\"))\n",
    "if num > 0:\n",
    "    print('Positive')\n",
    "elif num < 0:\n",
    "    print('Negative')\n",
    "else:\n",
    "    print('Zero')"
   ]
  },
  {
   "cell_type": "markdown",
   "id": "c66342cc-b787-4e24-a1c2-7087c3f0a32b",
   "metadata": {},
   "source": [
    " num = 5\n",
    "if num > 0:\n",
    "    print('positive')\n",
    "elif num < 0:\n",
    "    print('negative')\n",
    "else:\n",
    "    print('zero')\n",
    "        "
   ]
  },
  {
   "cell_type": "markdown",
   "id": "229e7087-bfb0-4048-848f-40ac0f848f72",
   "metadata": {},
   "source": [
    "BY USING NESTED IF-ELSE"
   ]
  },
  {
   "cell_type": "code",
   "execution_count": 6,
   "id": "f0127eb1-8bc1-40ec-8da0-8ace4bf67756",
   "metadata": {},
   "outputs": [
    {
     "name": "stdout",
     "output_type": "stream",
     "text": [
      "positive\n"
     ]
    }
   ],
   "source": [
    "num=15\n",
    "if num >=0:\n",
    "    if num==0:\n",
    "        print('zero')\n",
    "    else:\n",
    "        print('positive')\n",
    "else:\n",
    "    print('negative')"
   ]
  },
  {
   "cell_type": "markdown",
   "id": "826d5051-ab2b-4e8f-a619-6b8892893465",
   "metadata": {},
   "source": [
    "BY USING TERNARY OPERATOR"
   ]
  },
  {
   "cell_type": "code",
   "execution_count": 9,
   "id": "0f0d6f15-a097-431f-8f40-55a8e8d64f1d",
   "metadata": {},
   "outputs": [
    {
     "name": "stdout",
     "output_type": "stream",
     "text": [
      "negative\n"
     ]
    }
   ],
   "source": [
    "num=-1\n",
    "print('positive' if num>=0 else 'negative')"
   ]
  },
  {
   "cell_type": "markdown",
   "id": "81601277-a47d-4171-8253-d6521db36296",
   "metadata": {},
   "source": [
    "Q.1 check whether a number is even or odd in python"
   ]
  },
  {
   "cell_type": "markdown",
   "id": "4975cf06-ffb5-451e-81df-1b0cb8469171",
   "metadata": {},
   "source": [
    "using brute force"
   ]
  },
  {
   "cell_type": "code",
   "execution_count": 13,
   "id": "597ce737-fb69-470e-947e-6ab2a8bee308",
   "metadata": {},
   "outputs": [
    {
     "name": "stdin",
     "output_type": "stream",
     "text": [
      "enter a number 28\n"
     ]
    },
    {
     "name": "stdout",
     "output_type": "stream",
     "text": [
      "given number is even\n"
     ]
    }
   ],
   "source": [
    "num=int(input(\"enter a number\"))\n",
    "if num%2==0:\n",
    "    print(\"given number is even\")\n",
    "else:\n",
    "    print('given number is odd')"
   ]
  },
  {
   "cell_type": "markdown",
   "id": "da855fa6-4594-4ccb-9f9d-8f7948b96f7f",
   "metadata": {},
   "source": [
    "by using ternary operator"
   ]
  },
  {
   "cell_type": "code",
   "execution_count": 15,
   "id": "0cc332d3-bfb5-44ec-93b0-48318ffb2c89",
   "metadata": {},
   "outputs": [
    {
     "name": "stdin",
     "output_type": "stream",
     "text": [
      "enter a number 8\n"
     ]
    },
    {
     "name": "stdout",
     "output_type": "stream",
     "text": [
      "even\n"
     ]
    }
   ],
   "source": [
    "num=int(input(\"enter a number\"))\n",
    "print(\"even\" if num%2==0 else \"odd\")"
   ]
  },
  {
   "cell_type": "markdown",
   "id": "db1c6152-9278-4b3a-bb77-a0da41c39169",
   "metadata": {},
   "source": [
    "Q.2 find the sum of first n natural number"
   ]
  },
  {
   "cell_type": "code",
   "execution_count": 27,
   "id": "d103f4dd-2967-49a5-99cd-6a4eaeba9877",
   "metadata": {},
   "outputs": [
    {
     "name": "stdout",
     "output_type": "stream",
     "text": [
      "21\n"
     ]
    }
   ],
   "source": [
    "num=6\n",
    "sum=0\n",
    "for i in range(num+1):\n",
    "    sum+=i\n",
    "print(sum)"
   ]
  },
  {
   "cell_type": "code",
   "execution_count": 29,
   "id": "9ede9dd2-9545-4fac-a12b-a9222ad77120",
   "metadata": {},
   "outputs": [
    {
     "name": "stdout",
     "output_type": "stream",
     "text": [
      "15\n"
     ]
    }
   ],
   "source": [
    "num = 5\n",
    "sum = 0\n",
    "for i in range(num+1):\n",
    "  sum+=i\n",
    "print(sum)"
   ]
  },
  {
   "cell_type": "markdown",
   "id": "65055658-d582-4757-ba1c-1a696c2d8f22",
   "metadata": {},
   "source": [
    "by using formula "
   ]
  },
  {
   "cell_type": "code",
   "execution_count": 30,
   "id": "1614920b-1f23-43b4-806e-53232390bea1",
   "metadata": {},
   "outputs": [
    {
     "name": "stdout",
     "output_type": "stream",
     "text": [
      "15\n"
     ]
    }
   ],
   "source": [
    "num=5\n",
    "print(int(num*(num+1)/2))"
   ]
  },
  {
   "cell_type": "markdown",
   "id": "d365d99f-5225-4fba-8b88-957ace99e14c",
   "metadata": {},
   "source": [
    "by using recursion"
   ]
  },
  {
   "cell_type": "code",
   "execution_count": 33,
   "id": "81b5a003-ec56-403a-8429-3acd1895f59d",
   "metadata": {},
   "outputs": [
    {
     "name": "stdout",
     "output_type": "stream",
     "text": [
      "15\n"
     ]
    }
   ],
   "source": [
    "def getsum(num):\n",
    "    if num==1:\n",
    "        return 1\n",
    "    return num + getsum(num-1)\n",
    "num = 5\n",
    "print(getsum(num))"
   ]
  },
  {
   "cell_type": "markdown",
   "id": "f478a5b3-d923-40fe-bcf5-472c1e871d2c",
   "metadata": {},
   "source": [
    "Q.3 sum of n natural number"
   ]
  },
  {
   "cell_type": "code",
   "execution_count": 45,
   "id": "970362f7-38c9-4dca-a777-2e7001d33d64",
   "metadata": {},
   "outputs": [
    {
     "name": "stdin",
     "output_type": "stream",
     "text": [
      "enter a number 8\n"
     ]
    },
    {
     "name": "stdout",
     "output_type": "stream",
     "text": [
      "36\n"
     ]
    }
   ],
   "source": [
    "num, sum = int(input(\"enter a number\")),0\n",
    "for i in range(num+1):\n",
    "    sum+=i\n",
    "print(sum)    "
   ]
  },
  {
   "cell_type": "code",
   "execution_count": 41,
   "id": "fc2daf68-18ac-4164-a1c5-a07810e8b8e6",
   "metadata": {},
   "outputs": [
    {
     "name": "stdin",
     "output_type": "stream",
     "text": [
      "enter a number 8\n"
     ]
    },
    {
     "name": "stdout",
     "output_type": "stream",
     "text": [
      "36\n"
     ]
    }
   ],
   "source": [
    "num = int(input(\"enter a number\"))\n",
    "print(int((num*(num+1))/2))\n"
   ]
  },
  {
   "cell_type": "markdown",
   "id": "68e10dd1-1139-4ca1-916f-a3632037aac2",
   "metadata": {},
   "source": [
    "by recursion"
   ]
  },
  {
   "cell_type": "code",
   "execution_count": 46,
   "id": "6d5c4799-c96f-4a08-97af-5d959442f102",
   "metadata": {},
   "outputs": [
    {
     "name": "stdin",
     "output_type": "stream",
     "text": [
      "enter a number 8\n"
     ]
    },
    {
     "name": "stdout",
     "output_type": "stream",
     "text": [
      "36\n"
     ]
    }
   ],
   "source": [
    "def recursum(num):\n",
    "    if num == 0:\n",
    "        return num\n",
    "    return num + recursum(num-1)\n",
    "num,sum = int(input(\"enter a number\")),0\n",
    "print(recursum(num))"
   ]
  },
  {
   "cell_type": "markdown",
   "id": "f04294be-94d7-4da6-8281-18710b67879b",
   "metadata": {},
   "source": [
    "Q.4 sum of number in given range "
   ]
  },
  {
   "cell_type": "code",
   "execution_count": 52,
   "id": "e97f83a1-e01e-4079-a2fd-54a851f19224",
   "metadata": {},
   "outputs": [
    {
     "name": "stdout",
     "output_type": "stream",
     "text": [
      "18\n"
     ]
    }
   ],
   "source": [
    "num1, num2, = 3,6\n",
    "sum = 0\n",
    "for i in range(num1,num2+1):\n",
    "    sum+=i\n",
    "print(sum)    "
   ]
  },
  {
   "cell_type": "markdown",
   "id": "8b91219b-5c38-4955-8b8f-4049429c0122",
   "metadata": {},
   "source": [
    "by using formula"
   ]
  },
  {
   "cell_type": "code",
   "execution_count": 60,
   "id": "a9e795b7-7d3e-4d9b-aaaf-4318b61286ca",
   "metadata": {},
   "outputs": [
    {
     "name": "stdout",
     "output_type": "stream",
     "text": [
      "12\n"
     ]
    }
   ],
   "source": [
    "num1, num2 = 3, 6\n",
    "sum = int((num2*(num2+1)/2) - (num1*(num1+1)/2 + num1))\n",
    "print(sum)          "
   ]
  },
  {
   "cell_type": "markdown",
   "id": "a7585775-2941-4c69-93e1-7ff5cdfd0213",
   "metadata": {},
   "source": [
    "Q.5 find greates of two no."
   ]
  },
  {
   "cell_type": "markdown",
   "id": "0d054489-9de1-435e-9a84-50ede7f33037",
   "metadata": {},
   "source": [
    "by usin if else "
   ]
  },
  {
   "cell_type": "code",
   "execution_count": 61,
   "id": "a9c3c55c-c35c-41dc-9fb9-fcd42398a296",
   "metadata": {},
   "outputs": [
    {
     "name": "stdout",
     "output_type": "stream",
     "text": [
      "40\n"
     ]
    }
   ],
   "source": [
    "num1, num2 = 20, 40\n",
    "if num1>num2:\n",
    "    print(num1)\n",
    "else:\n",
    "    print(num2)"
   ]
  },
  {
   "cell_type": "markdown",
   "id": "93e6dbd2-a48a-4817-9150-615ad2867046",
   "metadata": {},
   "source": [
    "by using ternary operator"
   ]
  },
  {
   "cell_type": "code",
   "execution_count": 62,
   "id": "861fa40d-f9f8-4c29-851f-e5e7f05fbde7",
   "metadata": {},
   "outputs": [
    {
     "name": "stdout",
     "output_type": "stream",
     "text": [
      "40\n"
     ]
    }
   ],
   "source": [
    "num1, num2 = 20, 40\n",
    "print(num1 if num1>num1 else num2)"
   ]
  },
  {
   "cell_type": "markdown",
   "id": "8711f7f3-185d-4836-b6d6-55be7c121b67",
   "metadata": {},
   "source": [
    "by using inbuilt max() function"
   ]
  },
  {
   "cell_type": "code",
   "execution_count": 63,
   "id": "686098a2-758a-4f26-ad4c-bb3c14e638be",
   "metadata": {},
   "outputs": [
    {
     "name": "stdout",
     "output_type": "stream",
     "text": [
      "40\n"
     ]
    }
   ],
   "source": [
    "num1, num2 = 20, 40\n",
    "print(max(num1,num2))"
   ]
  },
  {
   "cell_type": "markdown",
   "id": "b5925fe3-42a5-45d5-b677-ed3e13ac3504",
   "metadata": {},
   "source": [
    "Q.6 find the greatest of the three numbers in python"
   ]
  },
  {
   "cell_type": "markdown",
   "id": "3dd55631-ae7e-4f23-bdc5-097524410df7",
   "metadata": {},
   "source": [
    "by usin if eles"
   ]
  },
  {
   "cell_type": "code",
   "execution_count": 76,
   "id": "981c8853-5095-438f-90df-d1e1b9b0d4f1",
   "metadata": {},
   "outputs": [
    {
     "name": "stdout",
     "output_type": "stream",
     "text": [
      "78\n"
     ]
    }
   ],
   "source": [
    "num1, num2, num3 = 5,78,9\n",
    "max = 0\n",
    "if num1>=num2 and num1>=num3:\n",
    "    print(num1)\n",
    "elif num2>=num1 and num2>=num3:\n",
    "    print(num2)\n",
    "else:\n",
    "    print(num3)"
   ]
  },
  {
   "cell_type": "code",
   "execution_count": 71,
   "id": "783357b4-9ad3-444c-b29e-730700c8d9cc",
   "metadata": {},
   "outputs": [
    {
     "name": "stdout",
     "output_type": "stream",
     "text": [
      "30\n"
     ]
    }
   ],
   "source": [
    "num1, num2, num3 = 10 , 30 , 20\n",
    "max = 0\n",
    "if num1 >= num2 and num1 >= num3:\n",
    "  print(num1)\n",
    "elif num2 >= num1 and num2 >= num3:\n",
    "  print(num2)\n",
    "else:\n",
    "  print(num3)"
   ]
  },
  {
   "cell_type": "code",
   "execution_count": 75,
   "id": "968c41c1-c832-4107-afb5-40a7004d0fc6",
   "metadata": {},
   "outputs": [
    {
     "name": "stdout",
     "output_type": "stream",
     "text": [
      "2302\n"
     ]
    }
   ],
   "source": [
    "num1, num2, num3 = 122,522,2302\n",
    "max = 0\n",
    "if num1 >= num2 and num1 >= num3:\n",
    "    print(num1)\n",
    "elif num2 >= num1 and num2 >= num3:\n",
    "    print(num2)\n",
    "else:\n",
    "    print(num3)"
   ]
  },
  {
   "cell_type": "markdown",
   "id": "2081af76-8e30-4293-9609-24d9f7bd6e69",
   "metadata": {},
   "source": [
    "by using nested if else"
   ]
  },
  {
   "cell_type": "code",
   "execution_count": 83,
   "id": "7c417157-5589-47a3-bf56-03654d9ff8e4",
   "metadata": {},
   "outputs": [],
   "source": [
    "num1, num2, num3 = 85,69,254\n",
    "max = 0\n",
    "if num1 >= num2:\n",
    "    if num1 >= num3:\n",
    "        print(num1)\n",
    "elif num2 >= num1:\n",
    "    if num2 >= num3:\n",
    "        print(num2)\n",
    "    else:\n",
    "        print(num3)"
   ]
  },
  {
   "cell_type": "code",
   "execution_count": 81,
   "id": "2149cfae-0f6b-4468-8ba7-48909ea8779d",
   "metadata": {},
   "outputs": [
    {
     "name": "stdout",
     "output_type": "stream",
     "text": [
      "550\n"
     ]
    }
   ],
   "source": [
    "num1, num2, num3 = 10 , 350 , 550\n",
    "max = 0\n",
    "if num1 >= num2:\n",
    "    if num1 >= num3:\n",
    "        print(num1)\n",
    "elif num2 >= num1:\n",
    "    if num2 >= num3:\n",
    "        print(num2)\n",
    "    else :\n",
    "        print(num3)"
   ]
  },
  {
   "cell_type": "code",
   "execution_count": null,
   "id": "5ba7935c-e4c3-4e15-a533-01863f5feb40",
   "metadata": {},
   "outputs": [],
   "source": []
  }
 ],
 "metadata": {
  "kernelspec": {
   "display_name": "Python 3 (ipykernel)",
   "language": "python",
   "name": "python3"
  },
  "language_info": {
   "codemirror_mode": {
    "name": "ipython",
    "version": 3
   },
   "file_extension": ".py",
   "mimetype": "text/x-python",
   "name": "python",
   "nbconvert_exporter": "python",
   "pygments_lexer": "ipython3",
   "version": "3.10.8"
  }
 },
 "nbformat": 4,
 "nbformat_minor": 5
}
